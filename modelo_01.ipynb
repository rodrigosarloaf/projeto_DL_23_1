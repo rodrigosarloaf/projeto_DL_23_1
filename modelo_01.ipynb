{
  "nbformat": 4,
  "nbformat_minor": 0,
  "metadata": {
    "colab": {
      "provenance": [],
      "gpuType": "V100",
      "authorship_tag": "ABX9TyP4K1HLe0dc5ok5mR9xB+uB",
      "include_colab_link": true
    },
    "kernelspec": {
      "name": "python3",
      "display_name": "Python 3"
    },
    "language_info": {
      "name": "python"
    },
    "accelerator": "GPU"
  },
  "cells": [
    {
      "cell_type": "markdown",
      "metadata": {
        "id": "view-in-github",
        "colab_type": "text"
      },
      "source": [
        "<a href=\"https://colab.research.google.com/github/rodrigosarloaf/projeto_DL_23_1/blob/main/modelo_01.ipynb\" target=\"_parent\"><img src=\"https://colab.research.google.com/assets/colab-badge.svg\" alt=\"Open In Colab\"/></a>"
      ]
    },
    {
      "cell_type": "code",
      "execution_count": null,
      "metadata": {
        "id": "8i5ts4RQzGOW"
      },
      "outputs": [],
      "source": [
        "# Pacotes\n",
        "import os\n",
        "import time\n",
        "import sys\n",
        "import pandas as pd\n",
        "import numpy as np\n",
        "import matplotlib.pyplot as plt\n",
        "import h5py\n",
        "from scipy import stats\n",
        "import pickle\n",
        "from PIL import Image, ImageDraw, ImageFont\n",
        "#\n",
        "import tensorflow as tf\n",
        "from tensorflow.keras.models import Model\n",
        "from tensorflow.keras.backend import expand_dims, repeat_elements\n",
        "from tensorflow.keras.utils import plot_model\n",
        "from sklearn.model_selection import train_test_split\n",
        "from tensorflow.keras.layers import ConvLSTM2D, ConvLSTM3D, Bidirectional, Input, Permute, Reshape, TimeDistributed, Lambda, Conv2D, Conv3D, Dense, Dropout, Normalization, BatchNormalization"
      ]
    },
    {
      "cell_type": "code",
      "source": [
        "from google.colab import drive\n",
        "# Conectando ao drive\n",
        "drive.mount('/content/drive', force_remount=True)\n",
        "root_path = '/content/drive/My Drive/projeto_DL/'\n",
        "os.chdir(root_path)"
      ],
      "metadata": {
        "colab": {
          "base_uri": "https://localhost:8080/"
        },
        "id": "jjw4cu3JzVIG",
        "outputId": "83e04544-4b39-44af-b58e-3562c89034cd"
      },
      "execution_count": null,
      "outputs": [
        {
          "output_type": "stream",
          "name": "stdout",
          "text": [
            "Mounted at /content/drive\n"
          ]
        }
      ]
    },
    {
      "cell_type": "code",
      "source": [
        "def retorna_pesos(y):\n",
        "  w_ = np.zeros(y.shape, np.float32)\n",
        "  w_[y == 0.0] = 0.2\n",
        "  w_[y == 1.0] = 0.8\n",
        "  w_[y == 2.0] = 0.0\n",
        "  return w_"
      ],
      "metadata": {
        "id": "6bz_TKJOJGgC"
      },
      "execution_count": null,
      "outputs": []
    },
    {
      "cell_type": "code",
      "source": [
        "# DataGenerator de https://github.com/mauriciodev/tec_forecast/blob/main/examples/tec_forecast_tf2_lab.ipynb\n",
        "# split_sequence alterada para levar em conta que estamos trabalhando com patches na linha 71\n",
        "# e também o self.list_IDs da linha 9\n",
        "class DataGenerator(tf.keras.utils.Sequence):\n",
        "    'Generates data for Keras'\n",
        "    def __init__(self, x, batch_size, nstepsin=4, nstepsout=1, shuffle=True,training=True, sample_rate=12, val_split=0, validation=False, random_state=23, test_set = 0):\n",
        "        'Initialization'\n",
        "        super().__init__()\n",
        "        self.list_IDs=range(0,len(x)-(nstepsout-1+nstepsin)*100,sample_rate) #store the index to allow shuffling\n",
        "        if val_split>0:\n",
        "            datasplit=train_test_split(self.list_IDs,random_state=random_state, test_size=val_split)\n",
        "            if validation==False: #training generator\n",
        "                self.list_IDs=datasplit[0]\n",
        "            else:\n",
        "                self.list_IDs=datasplit[1]\n",
        "\n",
        "        # Mexendo na seleção de amostras para treinamento - queremos manter mais amostras que apresentem variação\n",
        "        if test_set == 0:\n",
        "          id_keep = []\n",
        "          for current_id in self.list_IDs:\n",
        "            l_test = x[current_id:current_id+(2*100):100]\n",
        "            if np.any(l_test[0] == 1):\n",
        "              if np.any(l_test[0] == 1):\n",
        "                id_keep.append(current_id)\n",
        "          self.list_IDs = id_keep\n",
        "\n",
        "        self.x=x\n",
        "        self.nstepsin=nstepsin\n",
        "        self.nstepsout=nstepsout\n",
        "        self.batch_size=batch_size\n",
        "        self.dim=x[0].shape\n",
        "        self.shuffle=shuffle\n",
        "        self.training=training\n",
        "        self.on_epoch_end()\n",
        "\n",
        "    def count(self):\n",
        "        'Returns the number of samples'\n",
        "        return len(self.list_IDs)\n",
        "\n",
        "    def __len__(self):\n",
        "        'Denotes the number of batches per epoch'\n",
        "        return int(np.ceil(len(self.list_IDs) / self.batch_size))\n",
        "\n",
        "    def __getitem__(self, index):\n",
        "        'Generate one batch of data'\n",
        "        # Generate indexes of the batch\n",
        "        indexes = self.indexes[index*self.batch_size:(index+1)*self.batch_size]\n",
        "        # Find list of IDs\n",
        "        list_IDs_temp = [self.list_IDs[k] for k in indexes]\n",
        "        # Generate data\n",
        "        X, y = self.__data_generation(list_IDs_temp)\n",
        "        if self.training:\n",
        "            return X, y, retorna_pesos(y)\n",
        "        else:\n",
        "            return X\n",
        "\n",
        "    def on_epoch_end(self):\n",
        "        'Updates indexes after each epoch'\n",
        "        self.indexes = np.arange(len(self.list_IDs))\n",
        "        if self.shuffle == True:\n",
        "            np.random.shuffle(self.indexes)\n",
        "\n",
        "    def __data_generation(self, list_IDs_temp):\n",
        "        'Generates data containing batch_size samples' # X : (n_samples, *dim, n_channels)\n",
        "        # Initialization\n",
        "        X = []\n",
        "        Y = []\n",
        "        # Generate data\n",
        "        for ID in list_IDs_temp:\n",
        "            x,y=self.split_sequence(ID)\n",
        "            X.append(x)\n",
        "            Y.append(y) # <- alteração aqui\n",
        "        return np.array(X), np.array(Y).astype(np.int32)\n",
        "\n",
        "    def split_sequence(self, i):\n",
        "        # find the end of this pattern\n",
        "        end_ix = i + self.nstepsin*100\n",
        "        # check if we are beyond the sequence\n",
        "        #if (end_ix + (self.nstepsout)*100) > len(self.x):\n",
        "        #    return None,None\n",
        "        # gather input and output parts of the pattern\n",
        "        seq_x, seq_y = self.x[i:end_ix:100], self.x[end_ix:(end_ix+(self.nstepsout*100)):100]\n",
        "        return seq_x,seq_y\n",
        "\n",
        "    def asArray(self):\n",
        "        return self.__data_generation(self.list_IDs)"
      ],
      "metadata": {
        "id": "kmVB1aIZzd8L"
      },
      "execution_count": null,
      "outputs": []
    },
    {
      "cell_type": "code",
      "source": [
        "# Abrindo dados\n",
        "with open(\"/content/drive/My Drive/projeto_DL/dataset_tratado/train_npy.pkl\", 'rb') as handle:\n",
        "  train_npy = pickle.load(handle)\n",
        "\n",
        "with open(\"/content/drive/My Drive/projeto_DL/dataset_tratado/test_npy.pkl\", 'rb') as handle:\n",
        "  test_npy = pickle.load(handle)\n",
        "\n",
        "print(len(train_npy))\n",
        "print(len(test_npy))"
      ],
      "metadata": {
        "colab": {
          "base_uri": "https://localhost:8080/"
        },
        "id": "S65S72WYzh__",
        "outputId": "98027157-27a9-4d56-92bf-62228c9d6618"
      },
      "execution_count": null,
      "outputs": [
        {
          "output_type": "stream",
          "name": "stdout",
          "text": [
            "20800\n",
            "5200\n"
          ]
        }
      ]
    },
    {
      "cell_type": "code",
      "source": [
        "def modelo_01(inputShape, filters=64, kernel=(5, 5), kernel_last_con = (3,3,3)):\n",
        "  in_im = Input(shape = inputShape)\n",
        "  x = in_im\n",
        "  x = BatchNormalization()(x)\n",
        "  x = ConvLSTM2D(filters=filters, kernel_size=kernel, padding=\"same\", return_sequences=True)(x)\n",
        "  x = BatchNormalization()(x)\n",
        "  x=Lambda(lambda x: expand_dims(x[:, -1, :, :, :], axis=1))(x)\n",
        "  x=Conv3D(3, kernel_last_con, activation='softmax', padding='same')(x)\n",
        "  return Model(in_im, x, name=sys._getframe().f_code.co_name)\n"
      ],
      "metadata": {
        "id": "03WZjYSdzu-6"
      },
      "execution_count": null,
      "outputs": []
    },
    {
      "cell_type": "code",
      "source": [
        "nstepsin=5\n",
        "nstepsout=1\n",
        "time_stride=1\n",
        "batch_size=16\n",
        "random_seed=1\n",
        "sample_rate_in=1\n",
        "sample_rate_out=1"
      ],
      "metadata": {
        "id": "RS-1TdjU0sK8"
      },
      "execution_count": null,
      "outputs": []
    },
    {
      "cell_type": "code",
      "source": [
        "train_set=DataGenerator(train_npy, batch_size=batch_size, nstepsin=nstepsin, nstepsout=nstepsout, shuffle=True, val_split=0.2,\n",
        "                        validation=False, random_state=random_seed, sample_rate=sample_rate_in, test_set = 0)\n",
        "val_set=DataGenerator(train_npy, batch_size=batch_size, nstepsin=nstepsin, nstepsout=nstepsout, shuffle=True, val_split=0.2,\n",
        "                      validation=True, random_state=random_seed, sample_rate=sample_rate_in, test_set = 0)\n",
        "test_set=DataGenerator(test_npy, batch_size=batch_size, nstepsin=nstepsin, nstepsout=nstepsout, shuffle=False, val_split=0,\n",
        "                       validation=False, random_state=random_seed, sample_rate=sample_rate_out, test_set = 1)"
      ],
      "metadata": {
        "id": "5lc_Oh6H0yDQ"
      },
      "execution_count": null,
      "outputs": []
    },
    {
      "cell_type": "code",
      "source": [
        "print(\"X batches:\",train_set[0][0].shape)\n",
        "print(\"Y batches:\",train_set[0][1].shape)\n",
        "print(\"Training sSamples: \", train_set.count())"
      ],
      "metadata": {
        "colab": {
          "base_uri": "https://localhost:8080/"
        },
        "id": "rifOXi0604bj",
        "outputId": "b2444ed9-9e5f-4d4d-d284-f975658fa0ca"
      },
      "execution_count": null,
      "outputs": [
        {
          "output_type": "stream",
          "name": "stdout",
          "text": [
            "X batches: (16, 5, 256, 256, 1)\n",
            "Y batches: (16, 1, 256, 256, 1)\n",
            "Training sSamples:  1051\n"
          ]
        }
      ]
    },
    {
      "cell_type": "code",
      "source": [
        "inputShape=train_set[0][0][0].shape\n",
        "model= modelo_01(inputShape, filters=32, kernel=(3, 3), kernel_last_con = (1,1,1))\n",
        "print(model.name)\n",
        "plot_model(model, show_shapes=True, show_layer_names=True)"
      ],
      "metadata": {
        "colab": {
          "base_uri": "https://localhost:8080/",
          "height": 661
        },
        "id": "4s4Hd68407v5",
        "outputId": "74b8be9e-cb9b-42b4-823e-94d693737ba3"
      },
      "execution_count": null,
      "outputs": [
        {
          "output_type": "stream",
          "name": "stdout",
          "text": [
            "modelo_01\n"
          ]
        },
        {
          "output_type": "execute_result",
          "data": {
            "image/png": "[encoded data removed]",
            "text/plain": [
              "<IPython.core.display.Image object>"
            ]
          },
          "metadata": {},
          "execution_count": 10
        }
      ]
    },
    {
      "cell_type": "code",
      "source": [
        "model.summary()"
      ],
      "metadata": {
        "colab": {
          "base_uri": "https://localhost:8080/"
        },
        "id": "KxjXIosG1Xrl",
        "outputId": "005f6df8-9b50-487d-81b0-ccd584faf35b"
      },
      "execution_count": null,
      "outputs": [
        {
          "output_type": "stream",
          "name": "stdout",
          "text": [
            "Model: \"modelo_01\"\n",
            "_________________________________________________________________\n",
            " Layer (type)                Output Shape              Param #   \n",
            "=================================================================\n",
            " input_1 (InputLayer)        [(None, 5, 256, 256, 1)]  0         \n",
            "                                                                 \n",
            " batch_normalization (BatchN  (None, 5, 256, 256, 1)   4         \n",
            " ormalization)                                                   \n",
            "                                                                 \n",
            " conv_lstm2d (ConvLSTM2D)    (None, 5, 256, 256, 32)   38144     \n",
            "                                                                 \n",
            " batch_normalization_1 (Batc  (None, 5, 256, 256, 32)  128       \n",
            " hNormalization)                                                 \n",
            "                                                                 \n",
            " lambda (Lambda)             (None, 1, 256, 256, 32)   0         \n",
            "                                                                 \n",
            " conv3d (Conv3D)             (None, 1, 256, 256, 3)    99        \n",
            "                                                                 \n",
            "=================================================================\n",
            "Total params: 38,375\n",
            "Trainable params: 38,309\n",
            "Non-trainable params: 66\n",
            "_________________________________________________________________\n"
          ]
        }
      ]
    },
    {
      "cell_type": "code",
      "source": [
        "optimizer = tf.keras.optimizers.Adam(learning_rate = 0.001, clipnorm = 1)\n",
        "loss=tf.keras.losses.SparseCategoricalCrossentropy()\n",
        "model.compile(optimizer=optimizer, loss=loss, metrics=['accuracy'])\n",
        "earlystopping = tf.keras.callbacks.EarlyStopping(monitor= \"val_loss\", min_delta=0.0001,\n",
        "                                                 patience=10, restore_best_weights=True,\n",
        "                                                 verbose = 1)\n",
        "start = pd.Timestamp.now()\n",
        "history=model.fit(train_set, validation_data=val_set, epochs=100, batch_size=batch_size,\n",
        "                  callbacks = [earlystopping])\n",
        "end = pd.Timestamp.now()\n",
        "model.save(\"/content/drive/My Drive/projeto_DL/\"+model.name+\".h5\")"
      ],
      "metadata": {
        "colab": {
          "base_uri": "https://localhost:8080/"
        },
        "id": "Bpl4PBVX1aU9",
        "outputId": "16280888-d1f0-4077-d0a3-967d3be30820"
      },
      "execution_count": null,
      "outputs": [
        {
          "output_type": "stream",
          "name": "stdout",
          "text": [
            "Epoch 1/100\n",
            "66/66 [==============================] - 45s 375ms/step - loss: 0.0172 - accuracy: 0.6617 - val_loss: 0.0956 - val_accuracy: 0.6707\n",
            "Epoch 2/100\n",
            "66/66 [==============================] - 24s 360ms/step - loss: 0.0068 - accuracy: 0.8084 - val_loss: 0.0601 - val_accuracy: 0.9216\n",
            "Epoch 3/100\n",
            "66/66 [==============================] - 24s 361ms/step - loss: 0.0062 - accuracy: 0.9360 - val_loss: 0.0357 - val_accuracy: 0.9522\n",
            "Epoch 4/100\n",
            "66/66 [==============================] - 24s 360ms/step - loss: 0.0059 - accuracy: 0.9589 - val_loss: 0.0270 - val_accuracy: 0.9861\n",
            "Epoch 5/100\n",
            "66/66 [==============================] - 24s 360ms/step - loss: 0.0058 - accuracy: 0.9809 - val_loss: 0.0165 - val_accuracy: 0.9866\n",
            "Epoch 6/100\n",
            "66/66 [==============================] - 24s 362ms/step - loss: 0.0057 - accuracy: 0.9892 - val_loss: 0.0118 - val_accuracy: 0.9921\n",
            "Epoch 7/100\n",
            "66/66 [==============================] - 24s 359ms/step - loss: 0.0056 - accuracy: 0.9947 - val_loss: 0.0109 - val_accuracy: 0.9982\n",
            "Epoch 8/100\n",
            "66/66 [==============================] - 24s 360ms/step - loss: 0.0056 - accuracy: 0.9954 - val_loss: 0.0062 - val_accuracy: 0.9989\n",
            "Epoch 9/100\n",
            "66/66 [==============================] - 24s 360ms/step - loss: 0.0056 - accuracy: 0.9985 - val_loss: 0.0059 - val_accuracy: 0.9991\n",
            "Epoch 10/100\n",
            "66/66 [==============================] - 25s 372ms/step - loss: 0.0056 - accuracy: 0.9980 - val_loss: 0.0055 - val_accuracy: 0.9990\n",
            "Epoch 11/100\n",
            "66/66 [==============================] - 24s 360ms/step - loss: 0.0056 - accuracy: 0.9987 - val_loss: 0.0055 - val_accuracy: 0.9995\n",
            "Epoch 12/100\n",
            "66/66 [==============================] - 24s 362ms/step - loss: 0.0056 - accuracy: 0.9992 - val_loss: 0.0054 - val_accuracy: 0.9996\n",
            "Epoch 13/100\n",
            "66/66 [==============================] - 24s 360ms/step - loss: 0.0056 - accuracy: 0.9994 - val_loss: 0.0054 - val_accuracy: 0.9998\n",
            "Epoch 14/100\n",
            "66/66 [==============================] - 24s 371ms/step - loss: 0.0055 - accuracy: 0.9996 - val_loss: 0.0060 - val_accuracy: 0.9995\n",
            "Epoch 15/100\n",
            "66/66 [==============================] - 25s 371ms/step - loss: 0.0056 - accuracy: 0.9995 - val_loss: 0.0055 - val_accuracy: 0.9997\n",
            "Epoch 16/100\n",
            "66/66 [==============================] - 24s 360ms/step - loss: 0.0056 - accuracy: 0.9997 - val_loss: 0.0055 - val_accuracy: 0.9997\n",
            "Epoch 17/100\n",
            "66/66 [==============================] - 24s 358ms/step - loss: 0.0056 - accuracy: 0.9997 - val_loss: 0.0055 - val_accuracy: 0.9998\n",
            "Epoch 18/100\n",
            "66/66 [==============================] - 24s 360ms/step - loss: 0.0056 - accuracy: 0.9998 - val_loss: 0.0055 - val_accuracy: 0.9998\n",
            "Epoch 19/100\n",
            "66/66 [==============================] - 24s 371ms/step - loss: 0.0056 - accuracy: 0.9998 - val_loss: 0.0055 - val_accuracy: 0.9997\n",
            "Epoch 20/100\n",
            "66/66 [==============================] - ETA: 0s - loss: 0.0056 - accuracy: 0.9998Restoring model weights from the end of the best epoch: 10.\n",
            "66/66 [==============================] - 24s 359ms/step - loss: 0.0056 - accuracy: 0.9998 - val_loss: 0.0054 - val_accuracy: 0.9999\n",
            "Epoch 20: early stopping\n"
          ]
        }
      ]
    }
  ]
}