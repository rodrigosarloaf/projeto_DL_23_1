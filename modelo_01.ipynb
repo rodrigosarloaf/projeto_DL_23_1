{
  "nbformat": 4,
  "nbformat_minor": 0,
  "metadata": {
    "colab": {
      "provenance": [],
      "gpuType": "V100",
      "authorship_tag": "ABX9TyNmJf6dFsm3h4rrQ7bOabAM",
      "include_colab_link": true
    },
    "kernelspec": {
      "name": "python3",
      "display_name": "Python 3"
    },
    "language_info": {
      "name": "python"
    },
    "accelerator": "GPU"
  },
  "cells": [
    {
      "cell_type": "markdown",
      "metadata": {
        "id": "view-in-github",
        "colab_type": "text"
      },
      "source": [
        "<a href=\"https://colab.research.google.com/github/rodrigosarloaf/projeto_DL_23_1/blob/main/modelo_01.ipynb\" target=\"_parent\"><img src=\"https://colab.research.google.com/assets/colab-badge.svg\" alt=\"Open In Colab\"/></a>"
      ]
    },
    {
      "cell_type": "code",
      "execution_count": 1,
      "metadata": {
        "id": "8i5ts4RQzGOW"
      },
      "outputs": [],
      "source": [
        "# Pacotes\n",
        "import os\n",
        "import time\n",
        "import sys\n",
        "import pandas as pd\n",
        "import numpy as np\n",
        "import matplotlib.pyplot as plt\n",
        "import h5py\n",
        "from scipy import stats\n",
        "import pickle\n",
        "from PIL import Image, ImageDraw, ImageFont\n",
        "#\n",
        "import tensorflow as tf\n",
        "from tensorflow.keras.models import Model\n",
        "from tensorflow.keras.backend import expand_dims, repeat_elements\n",
        "from tensorflow.keras.utils import plot_model\n",
        "from sklearn.model_selection import train_test_split\n",
        "from tensorflow.keras.layers import ConvLSTM2D, Bidirectional, Input, Permute, Reshape, TimeDistributed, Lambda, Conv2D, Conv3D, Dense, Dropout, Normalization, BatchNormalization"
      ]
    },
    {
      "cell_type": "code",
      "source": [
        "from google.colab import drive\n",
        "# Conectando ao drive\n",
        "drive.mount('/content/drive', force_remount=True)\n",
        "root_path = '/content/drive/My Drive/projeto_DL/'\n",
        "os.chdir(root_path)"
      ],
      "metadata": {
        "colab": {
          "base_uri": "https://localhost:8080/"
        },
        "id": "jjw4cu3JzVIG",
        "outputId": "2ca1675c-314c-49b3-fd76-49b0f9540cae"
      },
      "execution_count": 2,
      "outputs": [
        {
          "output_type": "stream",
          "name": "stdout",
          "text": [
            "Mounted at /content/drive\n"
          ]
        }
      ]
    },
    {
      "cell_type": "code",
      "source": [
        "# DataGenerator de https://github.com/mauriciodev/tec_forecast/blob/main/examples/tec_forecast_tf2_lab.ipynb\n",
        "# split_sequence alterada para levar em conta que estamos trabalhando com patches na linha 71\n",
        "# e também o self.list_IDs da linha 9\n",
        "class DataGenerator(tf.keras.utils.Sequence):\n",
        "    'Generates data for Keras'\n",
        "    def __init__(self, x, batch_size, nstepsin=4, nstepsout=1, shuffle=True,training=True, sample_rate=12, val_split=0, validation=False, random_state=23, test_set = 0):\n",
        "        'Initialization'\n",
        "        super().__init__()\n",
        "        self.list_IDs=range(0,len(x)-(nstepsout-1+nstepsin)*100,sample_rate) #store the index to allow shuffling\n",
        "        if val_split>0:\n",
        "            datasplit=train_test_split(self.list_IDs,random_state=random_state, test_size=val_split)\n",
        "            if validation==False: #training generator\n",
        "                self.list_IDs=datasplit[0]\n",
        "            else:\n",
        "                self.list_IDs=datasplit[1]\n",
        "\n",
        "        # Mexendo na seleção de amostras para treinamento - queremos manter mais amostras que apresentem variação\n",
        "        if test_set == 0:\n",
        "          id_keep = []\n",
        "          for current_id in self.list_IDs:\n",
        "            l_test = x[current_id:current_id+(2*100):100]\n",
        "            if np.any((l_test[1]-l_test[0])):\n",
        "              id_keep.append(current_id)\n",
        "          self.list_IDs = id_keep\n",
        "\n",
        "        self.x=x\n",
        "        self.nstepsin=nstepsin\n",
        "        self.nstepsout=nstepsout\n",
        "        self.batch_size=batch_size\n",
        "        self.dim=x[0].shape\n",
        "        self.shuffle=shuffle\n",
        "        self.training=training\n",
        "        self.on_epoch_end()\n",
        "\n",
        "    def count(self):\n",
        "        'Returns the number of samples'\n",
        "        return len(self.list_IDs)\n",
        "\n",
        "    def __len__(self):\n",
        "        'Denotes the number of batches per epoch'\n",
        "        return int(np.ceil(len(self.list_IDs) / self.batch_size))\n",
        "\n",
        "    def __getitem__(self, index):\n",
        "        'Generate one batch of data'\n",
        "        # Generate indexes of the batch\n",
        "        indexes = self.indexes[index*self.batch_size:(index+1)*self.batch_size]\n",
        "        # Find list of IDs\n",
        "        list_IDs_temp = [self.list_IDs[k] for k in indexes]\n",
        "        # Generate data\n",
        "        X, y = self.__data_generation(list_IDs_temp)\n",
        "        if self.training:\n",
        "            return X, y\n",
        "        else:\n",
        "            return X\n",
        "\n",
        "    def on_epoch_end(self):\n",
        "        'Updates indexes after each epoch'\n",
        "        self.indexes = np.arange(len(self.list_IDs))\n",
        "        if self.shuffle == True:\n",
        "            np.random.shuffle(self.indexes)\n",
        "\n",
        "    def __data_generation(self, list_IDs_temp):\n",
        "        'Generates data containing batch_size samples' # X : (n_samples, *dim, n_channels)\n",
        "        # Initialization\n",
        "        X = []\n",
        "        Y = []\n",
        "        # Generate data\n",
        "        for ID in list_IDs_temp:\n",
        "            x,y=self.split_sequence(ID)\n",
        "            X.append(x)\n",
        "            Y.append(y) # <- alteração aqui\n",
        "        return np.array(X), np.array(Y)\n",
        "\n",
        "    def split_sequence(self, i):\n",
        "        # find the end of this pattern\n",
        "        end_ix = i + self.nstepsin*100\n",
        "        # check if we are beyond the sequence\n",
        "        #if (end_ix + (self.nstepsout)*100) > len(self.x):\n",
        "        #    return None,None\n",
        "        # gather input and output parts of the pattern\n",
        "        seq_x, seq_y = self.x[i:end_ix:100], self.x[end_ix:(end_ix+(self.nstepsout*100)):100]\n",
        "        return seq_x,seq_y\n",
        "\n",
        "    def asArray(self):\n",
        "        return self.__data_generation(self.list_IDs)"
      ],
      "metadata": {
        "id": "kmVB1aIZzd8L"
      },
      "execution_count": 3,
      "outputs": []
    },
    {
      "cell_type": "code",
      "source": [
        "# Abrindo dados\n",
        "with open(\"/content/drive/My Drive/projeto_DL/dataset_tratado/train_npy.pkl\", 'rb') as handle:\n",
        "  train_npy = pickle.load(handle)\n",
        "\n",
        "with open(\"/content/drive/My Drive/projeto_DL/dataset_tratado/test_npy.pkl\", 'rb') as handle:\n",
        "  test_npy = pickle.load(handle)\n",
        "\n",
        "print(len(train_npy))\n",
        "print(len(test_npy))"
      ],
      "metadata": {
        "colab": {
          "base_uri": "https://localhost:8080/"
        },
        "id": "S65S72WYzh__",
        "outputId": "1fa9f767-97f6-42e0-a46e-6ce302c38841"
      },
      "execution_count": 4,
      "outputs": [
        {
          "output_type": "stream",
          "name": "stdout",
          "text": [
            "20800\n",
            "5200\n"
          ]
        }
      ]
    },
    {
      "cell_type": "code",
      "source": [
        "def modelo_01(inputShape, filters=64, kernel=(5, 5), kernel_last_con = (3,3,3)):\n",
        "  in_im = Input(shape = inputShape)\n",
        "  x = in_im\n",
        "  x = BatchNormalization()(x)\n",
        "  x = ConvLSTM2D(filters=filters, kernel_size=kernel, padding=\"same\", return_sequences=True)(x)\n",
        "  x = BatchNormalization()(x)\n",
        "  x=Conv3D(1, kernel_last_con, activation='sigmoid', padding='same')(x)\n",
        "  return Model(in_im, x, name=sys._getframe().f_code.co_name)\n"
      ],
      "metadata": {
        "id": "03WZjYSdzu-6"
      },
      "execution_count": 5,
      "outputs": []
    },
    {
      "cell_type": "code",
      "source": [
        "nstepsin=5\n",
        "nstepsout=1\n",
        "time_stride=1\n",
        "batch_size=16\n",
        "random_seed=1\n",
        "sample_rate_in=1\n",
        "sample_rate_out=1"
      ],
      "metadata": {
        "id": "RS-1TdjU0sK8"
      },
      "execution_count": 6,
      "outputs": []
    },
    {
      "cell_type": "code",
      "source": [
        "train_set=DataGenerator(train_npy, batch_size=batch_size, nstepsin=nstepsin, nstepsout=nstepsout, shuffle=True, val_split=0.2,\n",
        "                        validation=False, random_state=random_seed, sample_rate=sample_rate_in, test_set = 0)\n",
        "val_set=DataGenerator(train_npy, batch_size=batch_size, nstepsin=nstepsin, nstepsout=nstepsout, shuffle=True, val_split=0.2,\n",
        "                      validation=True, random_state=random_seed, sample_rate=sample_rate_in, test_set = 0)\n",
        "test_set=DataGenerator(test_npy, batch_size=batch_size, nstepsin=nstepsin, nstepsout=nstepsout, shuffle=False, val_split=0,\n",
        "                       validation=False, random_state=random_seed, sample_rate=sample_rate_out, test_set = 1)"
      ],
      "metadata": {
        "id": "5lc_Oh6H0yDQ"
      },
      "execution_count": 7,
      "outputs": []
    },
    {
      "cell_type": "code",
      "source": [
        "print(\"X batches:\",train_set[0][0].shape)\n",
        "print(\"Y batches:\",train_set[0][1].shape)\n",
        "print(\"Training sSamples: \", train_set.count())"
      ],
      "metadata": {
        "colab": {
          "base_uri": "https://localhost:8080/"
        },
        "id": "rifOXi0604bj",
        "outputId": "b552b3f3-c85a-445d-f470-1ec8764d67b4"
      },
      "execution_count": 8,
      "outputs": [
        {
          "output_type": "stream",
          "name": "stdout",
          "text": [
            "X batches: (16, 5, 256, 256, 1)\n",
            "Y batches: (16, 1, 256, 256, 1)\n",
            "Training sSamples:  1372\n"
          ]
        }
      ]
    },
    {
      "cell_type": "code",
      "source": [
        "inputShape=train_set[0][0][0].shape\n",
        "model= modelo_01(inputShape, filters=32, kernel=(3, 3), kernel_last_con = (1,1,1))\n",
        "print(model.name)\n",
        "plot_model(model, show_shapes=True, show_layer_names=True)"
      ],
      "metadata": {
        "colab": {
          "base_uri": "https://localhost:8080/",
          "height": 550
        },
        "id": "4s4Hd68407v5",
        "outputId": "370c2f6e-cad4-4061-b827-db696adefd3d"
      },
      "execution_count": 9,
      "outputs": [
        {
          "output_type": "stream",
          "name": "stdout",
          "text": [
            "modelo_01\n"
          ]
        },
        {
          "output_type": "execute_result",
          "data": {
            "image/png": "[encoded data removed]",
            "text/plain": [
              "<IPython.core.display.Image object>"
            ]
          },
          "metadata": {},
          "execution_count": 9
        }
      ]
    },
    {
      "cell_type": "code",
      "source": [
        "model.summary()"
      ],
      "metadata": {
        "colab": {
          "base_uri": "https://localhost:8080/"
        },
        "id": "KxjXIosG1Xrl",
        "outputId": "ee2f8883-1f10-4e31-b390-7e6a262dd19c"
      },
      "execution_count": 10,
      "outputs": [
        {
          "output_type": "stream",
          "name": "stdout",
          "text": [
            "Model: \"modelo_01\"\n",
            "_________________________________________________________________\n",
            " Layer (type)                Output Shape              Param #   \n",
            "=================================================================\n",
            " input_1 (InputLayer)        [(None, 5, 256, 256, 1)]  0         \n",
            "                                                                 \n",
            " batch_normalization (BatchN  (None, 5, 256, 256, 1)   4         \n",
            " ormalization)                                                   \n",
            "                                                                 \n",
            " conv_lstm2d (ConvLSTM2D)    (None, 5, 256, 256, 32)   38144     \n",
            "                                                                 \n",
            " batch_normalization_1 (Batc  (None, 5, 256, 256, 32)  128       \n",
            " hNormalization)                                                 \n",
            "                                                                 \n",
            " conv3d (Conv3D)             (None, 5, 256, 256, 1)    33        \n",
            "                                                                 \n",
            "=================================================================\n",
            "Total params: 38,309\n",
            "Trainable params: 38,243\n",
            "Non-trainable params: 66\n",
            "_________________________________________________________________\n"
          ]
        }
      ]
    },
    {
      "cell_type": "code",
      "source": [
        "optimizer = tf.keras.optimizers.Adam(learning_rate = 0.001, clipnorm = 1)\n",
        "loss=tf.keras.losses.binary_crossentropy\n",
        "model.compile(optimizer=optimizer, loss=loss, metrics=['accuracy'])\n",
        "earlystopping = tf.keras.callbacks.EarlyStopping(monitor= \"val_loss\", min_delta=0.0001,\n",
        "                                                 patience=10, restore_best_weights=True,\n",
        "                                                 verbose = 1)\n",
        "start = pd.Timestamp.now()\n",
        "history=model.fit(train_set, validation_data=val_set, epochs=100, batch_size=batch_size,\n",
        "                  callbacks = [earlystopping])\n",
        "end = pd.Timestamp.now()\n",
        "model.save(\"/content/drive/My Drive/projeto_DL/\"+model.name+\".h5\")"
      ],
      "metadata": {
        "colab": {
          "base_uri": "https://localhost:8080/"
        },
        "id": "Bpl4PBVX1aU9",
        "outputId": "4e99a5a7-a2df-408f-e5b0-308ed95beb7d"
      },
      "execution_count": 11,
      "outputs": [
        {
          "output_type": "stream",
          "name": "stdout",
          "text": [
            "Epoch 1/100\n",
            "86/86 [==============================] - 46s 366ms/step - loss: 0.0723 - accuracy: 0.9870 - val_loss: 0.4104 - val_accuracy: 0.9930\n",
            "Epoch 2/100\n",
            "86/86 [==============================] - 30s 353ms/step - loss: 0.0349 - accuracy: 0.9942 - val_loss: 0.2412 - val_accuracy: 0.9931\n",
            "Epoch 3/100\n",
            "86/86 [==============================] - 30s 351ms/step - loss: 0.0337 - accuracy: 0.9943 - val_loss: 0.1344 - val_accuracy: 0.9942\n",
            "Epoch 4/100\n",
            "86/86 [==============================] - 30s 351ms/step - loss: 0.0326 - accuracy: 0.9944 - val_loss: 0.0662 - val_accuracy: 0.9947\n",
            "Epoch 5/100\n",
            "86/86 [==============================] - 31s 358ms/step - loss: 0.0325 - accuracy: 0.9944 - val_loss: 0.0425 - val_accuracy: 0.9949\n",
            "Epoch 6/100\n",
            "86/86 [==============================] - 30s 352ms/step - loss: 0.0326 - accuracy: 0.9945 - val_loss: 0.0340 - val_accuracy: 0.9950\n",
            "Epoch 7/100\n",
            "86/86 [==============================] - 30s 352ms/step - loss: 0.0320 - accuracy: 0.9945 - val_loss: 0.0302 - val_accuracy: 0.9950\n",
            "Epoch 8/100\n",
            "86/86 [==============================] - 30s 352ms/step - loss: 0.0320 - accuracy: 0.9945 - val_loss: 0.0289 - val_accuracy: 0.9950\n",
            "Epoch 9/100\n",
            "86/86 [==============================] - 30s 352ms/step - loss: 0.0314 - accuracy: 0.9945 - val_loss: 0.0285 - val_accuracy: 0.9950\n",
            "Epoch 10/100\n",
            "86/86 [==============================] - 31s 357ms/step - loss: 0.0321 - accuracy: 0.9945 - val_loss: 0.0285 - val_accuracy: 0.9950\n",
            "Epoch 11/100\n",
            "86/86 [==============================] - 31s 358ms/step - loss: 0.0317 - accuracy: 0.9945 - val_loss: 0.0285 - val_accuracy: 0.9950\n",
            "Epoch 12/100\n",
            "86/86 [==============================] - 30s 353ms/step - loss: 0.0317 - accuracy: 0.9945 - val_loss: 0.0284 - val_accuracy: 0.9950\n",
            "Epoch 13/100\n",
            "86/86 [==============================] - 30s 352ms/step - loss: 0.0312 - accuracy: 0.9945 - val_loss: 0.0285 - val_accuracy: 0.9950\n",
            "Epoch 14/100\n",
            "86/86 [==============================] - 30s 353ms/step - loss: 0.0314 - accuracy: 0.9945 - val_loss: 0.0285 - val_accuracy: 0.9950\n",
            "Epoch 15/100\n",
            "86/86 [==============================] - 31s 360ms/step - loss: 0.0314 - accuracy: 0.9945 - val_loss: 0.0284 - val_accuracy: 0.9950\n",
            "Epoch 16/100\n",
            "86/86 [==============================] - 30s 352ms/step - loss: 0.0313 - accuracy: 0.9945 - val_loss: 0.0284 - val_accuracy: 0.9950\n",
            "Epoch 17/100\n",
            "86/86 [==============================] - 30s 351ms/step - loss: 0.0313 - accuracy: 0.9945 - val_loss: 0.0284 - val_accuracy: 0.9950\n",
            "Epoch 18/100\n",
            "86/86 [==============================] - 30s 351ms/step - loss: 0.0315 - accuracy: 0.9945 - val_loss: 0.0284 - val_accuracy: 0.9950\n",
            "Epoch 19/100\n",
            "86/86 [==============================] - 30s 352ms/step - loss: 0.0315 - accuracy: 0.9945 - val_loss: 0.0286 - val_accuracy: 0.9950\n",
            "Epoch 20/100\n",
            "86/86 [==============================] - 30s 353ms/step - loss: 0.0312 - accuracy: 0.9945 - val_loss: 0.0286 - val_accuracy: 0.9950\n",
            "Epoch 21/100\n",
            "86/86 [==============================] - 30s 352ms/step - loss: 0.0311 - accuracy: 0.9945 - val_loss: 0.0284 - val_accuracy: 0.9950\n",
            "Epoch 22/100\n",
            "86/86 [==============================] - ETA: 0s - loss: 0.0313 - accuracy: 0.9945Restoring model weights from the end of the best epoch: 12.\n",
            "86/86 [==============================] - 30s 351ms/step - loss: 0.0313 - accuracy: 0.9945 - val_loss: 0.0284 - val_accuracy: 0.9950\n",
            "Epoch 22: early stopping\n"
          ]
        }
      ]
    },
    {
      "cell_type": "code",
      "source": [
        "model.evaluate(train_set)\n",
        "model.evaluate(val_set)\n",
        "model.evaluate(test_set)"
      ],
      "metadata": {
        "colab": {
          "base_uri": "https://localhost:8080/"
        },
        "id": "yHIo86h23fpJ",
        "outputId": "3d762026-8280-490d-d1de-55575d9e2c11"
      },
      "execution_count": 12,
      "outputs": [
        {
          "output_type": "stream",
          "name": "stdout",
          "text": [
            "86/86 [==============================] - 9s 107ms/step - loss: 0.0308 - accuracy: 0.9945\n",
            "20/20 [==============================] - 2s 106ms/step - loss: 0.0284 - accuracy: 0.9950\n",
            "294/294 [==============================] - 31s 107ms/step - loss: 0.0290 - accuracy: 0.9958\n"
          ]
        },
        {
          "output_type": "execute_result",
          "data": {
            "text/plain": [
              "[0.029008662328124046, 0.9958091974258423]"
            ]
          },
          "metadata": {},
          "execution_count": 12
        }
      ]
    }
  ]
}