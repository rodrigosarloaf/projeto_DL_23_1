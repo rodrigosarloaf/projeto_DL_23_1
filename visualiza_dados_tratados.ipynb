{
  "nbformat": 4,
  "nbformat_minor": 0,
  "metadata": {
    "colab": {
      "provenance": [],
      "authorship_tag": "ABX9TyOj9tzpD0IdLHqKN32gA3xk",
      "include_colab_link": true
    },
    "kernelspec": {
      "name": "python3",
      "display_name": "Python 3"
    },
    "language_info": {
      "name": "python"
    }
  },
  "cells": [
    {
      "cell_type": "markdown",
      "metadata": {
        "id": "view-in-github",
        "colab_type": "text"
      },
      "source": [
        "<a href=\"https://colab.research.google.com/github/rodrigosarloaf/projeto_DL_23_1/blob/main/visualiza_dados_tratados.ipynb\" target=\"_parent\"><img src=\"https://colab.research.google.com/assets/colab-badge.svg\" alt=\"Open In Colab\"/></a>"
      ]
    },
    {
      "cell_type": "code",
      "execution_count": 1,
      "metadata": {
        "id": "4nHPHpBul5xb"
      },
      "outputs": [],
      "source": [
        "# Pacotes\n",
        "import os\n",
        "import sys\n",
        "import pandas as pd\n",
        "import numpy as np\n",
        "import matplotlib.pyplot as plt\n",
        "from scipy import stats\n",
        "import pickle\n",
        "from PIL import Image, ImageDraw, ImageFont"
      ]
    },
    {
      "cell_type": "code",
      "source": [
        "from google.colab import drive\n",
        "# Conectando ao drive\n",
        "drive.mount('/content/drive', force_remount=True)\n",
        "root_path = '/content/drive/My Drive/projeto_DL/'\n",
        "os.chdir(root_path)"
      ],
      "metadata": {
        "colab": {
          "base_uri": "https://localhost:8080/"
        },
        "id": "SfF7AoRbniG_",
        "outputId": "828c1202-f4a0-4339-f1cc-8d0a87d38426"
      },
      "execution_count": 2,
      "outputs": [
        {
          "output_type": "stream",
          "name": "stdout",
          "text": [
            "Mounted at /content/drive\n"
          ]
        }
      ]
    },
    {
      "cell_type": "code",
      "source": [
        "# Não precisa rodar de novo\n",
        "# Visualizando a evolução dos dados\n",
        "# Salvando no drive\n",
        "path = \"/content/drive/My Drive/projeto_DL/dataset_tratado/mes/\"\n",
        "arqs = []\n",
        "for i in ['2016','2017','2018','2019','2020','2021']:\n",
        "  for j in range(12):\n",
        "    arqs.append(path+i+\"_\"+str(j+1)+\".pkl\")\n",
        "n = len(arqs)\n",
        "start=0\n",
        "ft = ImageFont.truetype(\"/content/drive/My Drive/projeto_DL/dataset_tratado/Arial.ttf\", size = 100)\n",
        "# Baixado manualmente de https://github.com/matomo-org/travis-scripts/blob/master/fonts/Arial.ttf\n",
        "for i in range(start,start+n):\n",
        "  with open(arqs[i], 'rb') as handle:\n",
        "    dados = pickle.load(handle)\n",
        "  img = Image.fromarray(np.uint8(dados*255))\n",
        "  ImageDraw.Draw(\n",
        "    img  # Image\n",
        "    ).text(\n",
        "        (2000, 2300),  # Coordinates\n",
        "        f\"Frame {i+1}\",  # Text\n",
        "        (255)  # Color\n",
        "        ,\n",
        "        font= ft\n",
        "        )\n",
        "  img.save('/content/drive/My Drive/projeto_DL/dataset_tratado/plots/img_'+str(i+1)+'.png')\n",
        "# Criando um gif\n",
        "import imageio\n",
        "images = []\n",
        "for i in range(len(arqs)):\n",
        "    images.append(\n",
        "        imageio.imread('/content/drive/My Drive/projeto_DL/dataset_tratado/plots/img_'+str(i+1)+'.png')\n",
        "        )\n",
        "imageio.mimsave('/content/drive/My Drive/projeto_DL/dataset_tratado/frames.gif', images, duration=0.75)"
      ],
      "metadata": {
        "id": "RGLoFP-VmiQi",
        "colab": {
          "base_uri": "https://localhost:8080/"
        },
        "outputId": "59c72fa1-826c-4e9a-c300-3124e7b5bc1b"
      },
      "execution_count": 3,
      "outputs": [
        {
          "output_type": "stream",
          "name": "stderr",
          "text": [
            "<ipython-input-3-394b39a909a1>:32: DeprecationWarning: Starting with ImageIO v3 the behavior of this function will switch to that of iio.v3.imread. To keep the current behavior (and make this warning disappear) use `import imageio.v2 as imageio` or call `imageio.v2.imread` directly.\n",
            "  imageio.imread('/content/drive/My Drive/projeto_DL/dataset_tratado/plots/img_'+str(i+1)+'.png')\n"
          ]
        }
      ]
    }
  ]
}