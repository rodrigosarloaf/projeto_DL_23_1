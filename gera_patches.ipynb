{
  "nbformat": 4,
  "nbformat_minor": 0,
  "metadata": {
    "colab": {
      "provenance": [],
      "authorship_tag": "ABX9TyO1i+rmtRjBy8fMQk29wqOE",
      "include_colab_link": true
    },
    "kernelspec": {
      "name": "python3",
      "display_name": "Python 3"
    },
    "language_info": {
      "name": "python"
    }
  },
  "cells": [
    {
      "cell_type": "markdown",
      "metadata": {
        "id": "view-in-github",
        "colab_type": "text"
      },
      "source": [
        "<a href=\"https://colab.research.google.com/github/rodrigosarloaf/projeto_DL_23_1/blob/main/gera_patches.ipynb\" target=\"_parent\"><img src=\"https://colab.research.google.com/assets/colab-badge.svg\" alt=\"Open In Colab\"/></a>"
      ]
    },
    {
      "cell_type": "code",
      "source": [
        "# Esse script foi rodado localmente\n",
        "# Baixei os dados de entrada e depois subi os outputs\n",
        "\n",
        "# Pacotes\n",
        "import os\n",
        "import time\n",
        "import sys\n",
        "import pandas as pd\n",
        "import numpy as np\n",
        "import matplotlib.pyplot as plt\n",
        "import h5py\n",
        "from scipy import stats\n",
        "import pickle\n",
        "from PIL import Image, ImageDraw, ImageFont\n",
        "\n",
        "# Função para gerar patches sem overlap - tamanho fixo de (256,256)\n",
        "def split_image(dados_in, input_mes_ano, output_path):\n",
        "    img = Image.fromarray(np.uint8(dados_in))\n",
        "    width, height = img.size\n",
        "    patch_size = 256\n",
        "    n_width = dados_in.shape[0] // patch_size\n",
        "    n_height = dados_in.shape[1] // patch_size\n",
        "    count = 0\n",
        "    for i in range(n_width):\n",
        "      box = (i * patch_size, 0, (i + 1) * patch_size, height)\n",
        "      if i == n_width - 1:\n",
        "        # Last split includes remaining height\n",
        "        box = (i * patch_size, 0, width, height)\n",
        "      for j in range(n_height):\n",
        "        # Adjust box for each row of splits\n",
        "        row_box = (box[0], j * patch_size, box[2], (j + 1) * patch_size)\n",
        "        if j == n_height - 1:\n",
        "          # Last row includes remaining height\n",
        "          row_box = (box[0], j * patch_size, box[2], height)\n",
        "        split = img.crop(row_box)\n",
        "        # Voltando para array\n",
        "        salvar = np.asarray(split)\n",
        "        salvar = salvar.astype('float32')\n",
        "        # Salvando\n",
        "        candidato = output_path + input_mes_ano + \"_patch_\" + str(count) + \".pkl\"\n",
        "        if not os.path.exists(candidato):\n",
        "          with open(candidato, 'wb') as handle:\n",
        "            pickle.dump(salvar, handle, protocol=pickle.HIGHEST_PROTOCOL)\n",
        "        if (count % 25) == 0:\n",
        "          print(\"count = \" + str(count))\n",
        "        count += 1\n",
        "\n",
        "# Criando caminhos\n",
        "path = \"semana/\"\n",
        "arqs = []\n",
        "arqs_title = []\n",
        "for i in ['2016','2017','2018','2019','2020','2021']:\n",
        "  for j in range(60):\n",
        "    candidato = path+i+\"_\"+str(j)+\".pkl\"\n",
        "    if os.path.exists(candidato):\n",
        "      arqs.append(candidato)\n",
        "      arqs_title.append(i+\"_\"+str(j))\n",
        "\n",
        "print(len(arqs))\n",
        "print(len(os.listdir(path)))\n",
        "\n",
        "for i in range(len(arqs)):\n",
        "  with open(arqs[i], 'rb') as handle:\n",
        "    dados = pickle.load(handle)\n",
        "  split_image(dados, arqs_title[i], 'patches/')\n",
        "  print(arqs_title[i])\n",
        "\n",
        "len(os.listdir('patches/')) == 100*len(arqs_title)"
      ],
      "metadata": {
        "id": "fCQ5mV9CbP74"
      },
      "execution_count": null,
      "outputs": []
    }
  ]
}