{
  "nbformat": 4,
  "nbformat_minor": 0,
  "metadata": {
    "colab": {
      "provenance": [],
      "authorship_tag": "ABX9TyPO3ofFUBFqmRjYc8+QYIcL",
      "include_colab_link": true
    },
    "kernelspec": {
      "name": "python3",
      "display_name": "Python 3"
    },
    "language_info": {
      "name": "python"
    }
  },
  "cells": [
    {
      "cell_type": "markdown",
      "metadata": {
        "id": "view-in-github",
        "colab_type": "text"
      },
      "source": [
        "<a href=\"https://colab.research.google.com/github/rodrigosarloaf/projeto_DL_23_1/blob/main/filtra_prodes.ipynb\" target=\"_parent\"><img src=\"https://colab.research.google.com/assets/colab-badge.svg\" alt=\"Open In Colab\"/></a>"
      ]
    },
    {
      "cell_type": "code",
      "source": [
        "# Pacotes\n",
        "import pathlib\n",
        "from osgeo import ogr, gdal, gdalconst\n",
        "from skimage.morphology import disk, dilation, erosion\n",
        "import os\n",
        "import numpy as np\n",
        "import shutil\n",
        "from google.colab import drive\n",
        "import cv2\n",
        "from datetime import date, timedelta\n",
        "import pandas as pd\n",
        "import pickle"
      ],
      "metadata": {
        "id": "l8I8IlCVgOjz"
      },
      "execution_count": 19,
      "outputs": []
    },
    {
      "cell_type": "code",
      "source": [
        "# Conectando ao drive\n",
        "drive.mount('/content/drive', force_remount=True)\n",
        "root_path = '/content/drive/My Drive/projeto_DL/'\n",
        "os.chdir(root_path)"
      ],
      "metadata": {
        "colab": {
          "base_uri": "https://localhost:8080/"
        },
        "id": "6njUinHB_zsq",
        "outputId": "d601cac3-db56-4aba-a042-5a322611165d"
      },
      "execution_count": 3,
      "outputs": [
        {
          "output_type": "stream",
          "name": "stdout",
          "text": [
            "Mounted at /content/drive\n"
          ]
        }
      ]
    },
    {
      "cell_type": "code",
      "source": [
        "# Cortando o Prodes para a nossa região de interesse\n",
        "extent=[-59.9206710380000018, -7.3125828444699836, -59.1668605229999969, -6.7566813625300162] \n",
        "clip =  gdal.Warp(destNameOrDestDS = \"/content/drive/My Drive/projeto_DL/prodes_tratado/corte_prodes.tif\", \n",
        "                  srcDSOrSrcDSTab  = \"/content/drive/My Drive/projeto_DL/dados_brutos/PDigital2000_2021_AMZ_raster_v20220915.tif\",\n",
        "                  outputBounds     = (extent[0], extent[1], extent[2], extent[3]),\n",
        "                  cropToCutline    = True,\n",
        "                  copyMetadata     = True)\n",
        "clip = None"
      ],
      "metadata": {
        "id": "-0EoLhRgF2cp"
      },
      "execution_count": null,
      "outputs": []
    },
    {
      "cell_type": "code",
      "source": [
        "# Agora criando máscara anual de floresta, não floresta e água _por ano_\n",
        "# Abrindo tif cortado\n",
        "dados = gdal.Open(\"/content/drive/My Drive/projeto_DL/prodes_tratado/corte_prodes.tif\")\n",
        "# Transformando em array\n",
        "dados2 = dados.ReadAsArray()\n",
        "dados2 = dados2.astype('int32')"
      ],
      "metadata": {
        "id": "5ZaTA9DJMXzM",
        "colab": {
          "base_uri": "https://localhost:8080/"
        },
        "outputId": "3f76c4dc-33de-41d1-9204-f60c2728b519"
      },
      "execution_count": 10,
      "outputs": [
        {
          "output_type": "stream",
          "name": "stdout",
          "text": [
            "int32\n"
          ]
        }
      ]
    },
    {
      "cell_type": "code",
      "source": [
        "np.unique(dados2, return_counts=True) # Veja que a região selecionada não tem nem nuvem (val = 32) nem água (val = 91)\n",
        "# Por isso só vou criar 2 labels"
      ],
      "metadata": {
        "colab": {
          "base_uri": "https://localhost:8080/"
        },
        "id": "ebUghIeDdahO",
        "outputId": "a226e3ad-851d-4423-9431-fad1535b1f1b"
      },
      "execution_count": 11,
      "outputs": [
        {
          "output_type": "execute_result",
          "data": {
            "text/plain": [
              "(array([  7,   8,   9,  10,  11,  12,  13,  14,  15,  16,  17,  18,  19,\n",
              "         20,  21,  50,  51,  53,  54,  55,  56,  57,  58,  59,  60, 100,\n",
              "        101], dtype=int32),\n",
              " array([ 864833,   50331,   46241,   33462,   34755,   54204,   68092,\n",
              "          65252,   83980,  112606,  133856,  124742,  229225,  194958,\n",
              "         220284,    3663,     176,     498,     167,    4591,     457,\n",
              "            122,    1241,     435,     833, 3408836,   53894]))"
            ]
          },
          "metadata": {},
          "execution_count": 11
        }
      ]
    },
    {
      "cell_type": "code",
      "source": [
        "# Criando função que converte o que é floresta e não floresta _para cada ano_\n",
        "# Na nova formulação:\n",
        "  # 0 = floresta\n",
        "  # 1 = não-floresta\n",
        "def troca_label(src_array, ano):\n",
        "  # Inicializando um objeto a ser retornado depois\n",
        "  out_array = np.zeros(shape = src_array.shape) # Só vamos substituir os de não-floresta\n",
        "  # Vamos colocar a máscara de começo do ano - ou seja, o que foi desmatado após 01/01/2016 fica como floresta\n",
        "  if ano == 2016:\n",
        "    lista_desmatamento_posterior = [\n",
        "        # Acrescentando o que é floresta até hoje\n",
        "        100,\n",
        "        # 2016\n",
        "        56,16,\n",
        "        # 2017\n",
        "        57,17,\n",
        "        # 2018\n",
        "        58,18,\n",
        "        #2019\n",
        "        59,19,\n",
        "        #2020\n",
        "        60,20,\n",
        "        #2021\n",
        "        61,21\n",
        "    ]\n",
        "  elif ano == 2017:\n",
        "    lista_desmatamento_posterior = [\n",
        "        # Acrescentando o que é floresta até hoje\n",
        "        100,\n",
        "        # 2017\n",
        "        57,17,\n",
        "        # 2018\n",
        "        58,18,\n",
        "        #2019\n",
        "        59,19,\n",
        "        #2020\n",
        "        60,20,\n",
        "        #2021\n",
        "        61,21\n",
        "    ]\n",
        "  elif ano == 2018:\n",
        "    lista_desmatamento_posterior = [\n",
        "        # Acrescentando o que é floresta até hoje\n",
        "        100,\n",
        "        # 2018\n",
        "        58,18,\n",
        "        #2019\n",
        "        59,19,\n",
        "        #2020\n",
        "        60,20,\n",
        "        #2021\n",
        "        61,21\n",
        "    ]\n",
        "  elif ano == 2019:\n",
        "    lista_desmatamento_posterior = [\n",
        "        # Acrescentando o que é floresta até hoje\n",
        "        100,\n",
        "        #2019\n",
        "        59,19,\n",
        "        #2020\n",
        "        60,20,\n",
        "        #2021\n",
        "        61,21\n",
        "    ]\n",
        "  elif ano == 2020:\n",
        "    lista_desmatamento_posterior = [\n",
        "        # Acrescentando o que é floresta até hoje\n",
        "        100,\n",
        "        #2020\n",
        "        60,20,\n",
        "        #2021\n",
        "        61,21\n",
        "    ]\n",
        "  elif ano == 2021:\n",
        "    lista_desmatamento_posterior = [\n",
        "        # Acrescentando o que é floresta até hoje\n",
        "        100,\n",
        "        #2021\n",
        "        61,21\n",
        "    ]\n",
        "  for i in range(src_array.shape[0]):\n",
        "    for j in range(src_array.shape[1]):\n",
        "      if src_array[i,j] not in lista_desmatamento_posterior:\n",
        "        out_array[i,j] = 1\n",
        "  return out_array"
      ],
      "metadata": {
        "id": "cI_sif52kvqm"
      },
      "execution_count": 14,
      "outputs": []
    },
    {
      "cell_type": "code",
      "source": [
        "# Criando array de cada ano\n",
        "array_2016 = troca_label(dados2, 2016)\n",
        "array_2017 = troca_label(dados2, 2017)\n",
        "array_2018 = troca_label(dados2, 2018)\n",
        "array_2019 = troca_label(dados2, 2019)\n",
        "array_2020 = troca_label(dados2, 2020)\n",
        "array_2021 = troca_label(dados2, 2021)"
      ],
      "metadata": {
        "id": "gwobFwJErGlW"
      },
      "execution_count": 17,
      "outputs": []
    },
    {
      "cell_type": "code",
      "source": [
        "print(np.unique(array_2016, return_counts=True))\n",
        "print(np.unique(array_2017, return_counts=True))\n",
        "print(np.unique(array_2018, return_counts=True))\n",
        "print(np.unique(array_2019, return_counts=True))\n",
        "print(np.unique(array_2020, return_counts=True))\n",
        "print(np.unique(array_2021, return_counts=True))"
      ],
      "metadata": {
        "colab": {
          "base_uri": "https://localhost:8080/"
        },
        "id": "jX1lEZmZrOf_",
        "outputId": "601c0fe9-caeb-490b-8636-a7cb37916122"
      },
      "execution_count": 18,
      "outputs": [
        {
          "output_type": "stream",
          "name": "stdout",
          "text": [
            "(array([0., 1.]), array([4427595, 1364139]))\n",
            "(array([0., 1.]), array([4314532, 1477202]))\n",
            "(array([0., 1.]), array([4180554, 1611180]))\n",
            "(array([0., 1.]), array([4054571, 1737163]))\n",
            "(array([0., 1.]), array([3824911, 1966823]))\n",
            "(array([0., 1.]), array([3629120, 2162614]))\n"
          ]
        }
      ]
    },
    {
      "cell_type": "code",
      "source": [
        "# Salvando\n",
        "# https://stackoverflow.com/questions/11218477/how-can-i-use-pickle-to-save-a-dict-or-any-other-python-object\n",
        "# 2016\n",
        "with open(\"/content/drive/My Drive/projeto_DL/prodes_tratado/prodes_2016.pkl\", 'wb') as handle:\n",
        "    pickle.dump(array_2016, handle, protocol=pickle.HIGHEST_PROTOCOL)\n",
        "# 2017\n",
        "with open(\"/content/drive/My Drive/projeto_DL/prodes_tratado/prodes_2017.pkl\", 'wb') as handle:\n",
        "    pickle.dump(array_2017, handle, protocol=pickle.HIGHEST_PROTOCOL)\n",
        "# 2018\n",
        "with open(\"/content/drive/My Drive/projeto_DL/prodes_tratado/prodes_2018.pkl\", 'wb') as handle:\n",
        "    pickle.dump(array_2018, handle, protocol=pickle.HIGHEST_PROTOCOL)\n",
        "# 2019\n",
        "with open(\"/content/drive/My Drive/projeto_DL/prodes_tratado/prodes_2019.pkl\", 'wb') as handle:\n",
        "    pickle.dump(array_2019, handle, protocol=pickle.HIGHEST_PROTOCOL)\n",
        "# 2020\n",
        "with open(\"/content/drive/My Drive/projeto_DL/prodes_tratado/prodes_2020.pkl\", 'wb') as handle:\n",
        "    pickle.dump(array_2020, handle, protocol=pickle.HIGHEST_PROTOCOL)\n",
        "# 2021\n",
        "with open(\"/content/drive/My Drive/projeto_DL/prodes_tratado/prodes_2021.pkl\", 'wb') as handle:\n",
        "    pickle.dump(array_2021, handle, protocol=pickle.HIGHEST_PROTOCOL)"
      ],
      "metadata": {
        "id": "GzfCUzZKsvzX"
      },
      "execution_count": 20,
      "outputs": []
    }
  ]
}