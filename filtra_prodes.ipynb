{
  "nbformat": 4,
  "nbformat_minor": 0,
  "metadata": {
    "colab": {
      "provenance": [],
      "authorship_tag": "ABX9TyMe/97SDz6q8yiP+8hC3T0A",
      "include_colab_link": true
    },
    "kernelspec": {
      "name": "python3",
      "display_name": "Python 3"
    },
    "language_info": {
      "name": "python"
    }
  },
  "cells": [
    {
      "cell_type": "markdown",
      "metadata": {
        "id": "view-in-github",
        "colab_type": "text"
      },
      "source": [
        "<a href=\"https://colab.research.google.com/github/rodrigosarloaf/projeto_DL_23_1/blob/main/filtra_prodes.ipynb\" target=\"_parent\"><img src=\"https://colab.research.google.com/assets/colab-badge.svg\" alt=\"Open In Colab\"/></a>"
      ]
    },
    {
      "cell_type": "code",
      "source": [
        "# Pacotes\n",
        "import pathlib\n",
        "from osgeo import ogr, gdal, gdalconst\n",
        "from skimage.morphology import disk, dilation, erosion\n",
        "import os\n",
        "import numpy as np\n",
        "import shutil\n",
        "from google.colab import drive\n",
        "import cv2\n",
        "from datetime import date, timedelta\n",
        "import pandas as pd\n",
        "import pickle"
      ],
      "metadata": {
        "id": "l8I8IlCVgOjz"
      },
      "execution_count": 1,
      "outputs": []
    },
    {
      "cell_type": "code",
      "source": [
        "# Conectando ao drive\n",
        "drive.mount('/content/drive', force_remount=True)\n",
        "root_path = '/content/drive/My Drive/projeto_DL/'\n",
        "os.chdir(root_path)"
      ],
      "metadata": {
        "colab": {
          "base_uri": "https://localhost:8080/"
        },
        "id": "6njUinHB_zsq",
        "outputId": "011040ed-2e4e-496b-bed4-0aac5abcad75"
      },
      "execution_count": 2,
      "outputs": [
        {
          "output_type": "stream",
          "name": "stdout",
          "text": [
            "Mounted at /content/drive\n"
          ]
        }
      ]
    },
    {
      "cell_type": "code",
      "source": [
        "# Cortando o Prodes para a nossa região de interesse\n",
        "extent=[-59.9206710380000018, -7.3125828444699836, -59.1668605229999969, -6.7566813625300162]\n",
        "clip =  gdal.Warp(destNameOrDestDS = \"/content/drive/My Drive/projeto_DL/prodes_tratado/corte_prodes.tif\",\n",
        "                  srcDSOrSrcDSTab  = \"/content/drive/My Drive/projeto_DL/dados_brutos/PDigital2000_2021_AMZ_raster_v20220915.tif\",\n",
        "                  outputBounds     = (extent[0], extent[1], extent[2], extent[3]),\n",
        "                  cropToCutline    = True,\n",
        "                  copyMetadata     = True,\n",
        "                  xRes = ((extent[2]-extent[0])/(256*10)),\n",
        "                  yRes = ((extent[3]-extent[1])/(256*10)))\n",
        "clip = None"
      ],
      "metadata": {
        "id": "-0EoLhRgF2cp"
      },
      "execution_count": null,
      "outputs": []
    },
    {
      "cell_type": "code",
      "source": [
        "# Agora criando máscara anual de floresta, não floresta e água _por ano_\n",
        "# Abrindo tif cortado\n",
        "dados = gdal.Open(\"/content/drive/My Drive/projeto_DL/prodes_tratado/corte_prodes.tif\")\n",
        "# Transformando em array\n",
        "dados2 = dados.ReadAsArray()\n",
        "dados2 = dados2.astype('int32')"
      ],
      "metadata": {
        "id": "5ZaTA9DJMXzM"
      },
      "execution_count": 3,
      "outputs": []
    },
    {
      "cell_type": "code",
      "source": [
        "np.unique(dados2, return_counts=True) # Veja que a região selecionada não tem nem nuvem (val = 32) nem água (val = 91)\n",
        "# Por isso só vou criar 2 labels"
      ],
      "metadata": {
        "colab": {
          "base_uri": "https://localhost:8080/"
        },
        "id": "ebUghIeDdahO",
        "outputId": "deaa225d-436e-4e0c-b218-20bb7c3ca7f8"
      },
      "execution_count": 4,
      "outputs": [
        {
          "output_type": "execute_result",
          "data": {
            "text/plain": [
              "(array([  7,   8,   9,  10,  11,  12,  13,  14,  15,  16,  17,  18,  19,\n",
              "         20,  21,  50,  51,  53,  54,  55,  56,  57,  58,  59,  60, 100,\n",
              "        101], dtype=int32),\n",
              " array([ 979015,   56971,   52276,   37777,   39422,   61263,   77298,\n",
              "          74049,   95040,  127366,  151376,  141334,  259325,  220445,\n",
              "         249405,    4196,     211,     571,     191,    5164,     523,\n",
              "            135,    1420,     494,     934, 3856515,   60884]))"
            ]
          },
          "metadata": {},
          "execution_count": 4
        }
      ]
    },
    {
      "cell_type": "code",
      "source": [
        "# Criando função que converte o que é floresta e não floresta _para cada ano_\n",
        "# Na nova formulação:\n",
        "  # 0 = floresta\n",
        "  # 1 = não-floresta\n",
        "def troca_label(src_array, ano):\n",
        "  # Inicializando um objeto a ser retornado depois\n",
        "  out_array = np.zeros(shape = src_array.shape) # Só vamos substituir os de não-floresta\n",
        "  if ano == 2016:\n",
        "    lista_desmatamento_posterior = [\n",
        "        # Acrescentando o que é floresta até hoje\n",
        "        100,\n",
        "        # 2017\n",
        "        57,17,\n",
        "        # 2018\n",
        "        58,18,\n",
        "        #2019\n",
        "        59,19,\n",
        "        #2020\n",
        "        60,20,\n",
        "        #2021\n",
        "        61,21\n",
        "    ]\n",
        "  elif ano == 2017:\n",
        "    lista_desmatamento_posterior = [\n",
        "        # Acrescentando o que é floresta até hoje\n",
        "        100,\n",
        "        # 2018\n",
        "        58,18,\n",
        "        #2019\n",
        "        59,19,\n",
        "        #2020\n",
        "        60,20,\n",
        "        #2021\n",
        "        61,21\n",
        "    ]\n",
        "  elif ano == 2018:\n",
        "    lista_desmatamento_posterior = [\n",
        "        # Acrescentando o que é floresta até hoje\n",
        "        100,\n",
        "        #2019\n",
        "        59,19,\n",
        "        #2020\n",
        "        60,20,\n",
        "        #2021\n",
        "        61,21\n",
        "    ]\n",
        "  elif ano == 2019:\n",
        "    lista_desmatamento_posterior = [\n",
        "        # Acrescentando o que é floresta até hoje\n",
        "        100,\n",
        "        #2020\n",
        "        60,20,\n",
        "        #2021\n",
        "        61,21\n",
        "    ]\n",
        "  elif ano == 2020:\n",
        "    lista_desmatamento_posterior = [\n",
        "        # Acrescentando o que é floresta até hoje\n",
        "        100,\n",
        "        #2021\n",
        "        61,21\n",
        "    ]\n",
        "  elif ano == 2021:\n",
        "    lista_desmatamento_posterior = [\n",
        "        # Acrescentando o que é floresta até hoje\n",
        "        100\n",
        "    ]\n",
        "  for i in range(src_array.shape[0]):\n",
        "    for j in range(src_array.shape[1]):\n",
        "      if src_array[i,j] not in lista_desmatamento_posterior:\n",
        "        out_array[i,j] = 1\n",
        "  return out_array"
      ],
      "metadata": {
        "id": "cI_sif52kvqm"
      },
      "execution_count": 5,
      "outputs": []
    },
    {
      "cell_type": "code",
      "source": [
        "# Criando array de cada ano\n",
        "array_2016 = troca_label(dados2, 2016)\n",
        "array_2017 = troca_label(dados2, 2017)\n",
        "array_2018 = troca_label(dados2, 2018)\n",
        "array_2019 = troca_label(dados2, 2019)\n",
        "array_2020 = troca_label(dados2, 2020)\n",
        "array_2021 = troca_label(dados2, 2021)"
      ],
      "metadata": {
        "id": "gwobFwJErGlW"
      },
      "execution_count": 6,
      "outputs": []
    },
    {
      "cell_type": "code",
      "source": [
        "print(np.unique(array_2016, return_counts=True))\n",
        "print(np.unique(array_2017, return_counts=True))\n",
        "print(np.unique(array_2018, return_counts=True))\n",
        "print(np.unique(array_2019, return_counts=True))\n",
        "print(np.unique(array_2020, return_counts=True))\n",
        "print(np.unique(array_2021, return_counts=True))"
      ],
      "metadata": {
        "colab": {
          "base_uri": "https://localhost:8080/"
        },
        "id": "jX1lEZmZrOf_",
        "outputId": "14fa5270-6f16-4809-9a3b-6cc718c3b51f"
      },
      "execution_count": 7,
      "outputs": [
        {
          "output_type": "stream",
          "name": "stdout",
          "text": [
            "(array([0., 1.]), array([4881383, 1672217]))\n",
            "(array([0., 1.]), array([4729872, 1823728]))\n",
            "(array([0., 1.]), array([4587118, 1966482]))\n",
            "(array([0., 1.]), array([4327299, 2226301]))\n",
            "(array([0., 1.]), array([4105920, 2447680]))\n",
            "(array([0., 1.]), array([3856515, 2697085]))\n"
          ]
        }
      ]
    },
    {
      "cell_type": "code",
      "source": [
        "# Salvando\n",
        "# https://stackoverflow.com/questions/11218477/how-can-i-use-pickle-to-save-a-dict-or-any-other-python-object\n",
        "# 2016\n",
        "with open(\"/content/drive/My Drive/projeto_DL/prodes_tratado/prodes_2016.pkl\", 'wb') as handle:\n",
        "    pickle.dump(array_2016, handle, protocol=pickle.HIGHEST_PROTOCOL)\n",
        "# 2017\n",
        "with open(\"/content/drive/My Drive/projeto_DL/prodes_tratado/prodes_2017.pkl\", 'wb') as handle:\n",
        "    pickle.dump(array_2017, handle, protocol=pickle.HIGHEST_PROTOCOL)\n",
        "# 2018\n",
        "with open(\"/content/drive/My Drive/projeto_DL/prodes_tratado/prodes_2018.pkl\", 'wb') as handle:\n",
        "    pickle.dump(array_2018, handle, protocol=pickle.HIGHEST_PROTOCOL)\n",
        "# 2019\n",
        "with open(\"/content/drive/My Drive/projeto_DL/prodes_tratado/prodes_2019.pkl\", 'wb') as handle:\n",
        "    pickle.dump(array_2019, handle, protocol=pickle.HIGHEST_PROTOCOL)\n",
        "# 2020\n",
        "with open(\"/content/drive/My Drive/projeto_DL/prodes_tratado/prodes_2020.pkl\", 'wb') as handle:\n",
        "    pickle.dump(array_2020, handle, protocol=pickle.HIGHEST_PROTOCOL)\n",
        "# 2021\n",
        "with open(\"/content/drive/My Drive/projeto_DL/prodes_tratado/prodes_2021.pkl\", 'wb') as handle:\n",
        "    pickle.dump(array_2021, handle, protocol=pickle.HIGHEST_PROTOCOL)"
      ],
      "metadata": {
        "id": "GzfCUzZKsvzX"
      },
      "execution_count": 8,
      "outputs": []
    }
  ]
}