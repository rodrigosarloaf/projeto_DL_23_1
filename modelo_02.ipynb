{
  "nbformat": 4,
  "nbformat_minor": 0,
  "metadata": {
    "colab": {
      "provenance": [],
      "gpuType": "V100",
      "authorship_tag": "ABX9TyOw8HfIeLQOhU65UflVezAc",
      "include_colab_link": true
    },
    "kernelspec": {
      "name": "python3",
      "display_name": "Python 3"
    },
    "language_info": {
      "name": "python"
    },
    "accelerator": "GPU"
  },
  "cells": [
    {
      "cell_type": "markdown",
      "metadata": {
        "id": "view-in-github",
        "colab_type": "text"
      },
      "source": [
        "<a href=\"https://colab.research.google.com/github/rodrigosarloaf/projeto_DL_23_1/blob/main/modelo_02.ipynb\" target=\"_parent\"><img src=\"https://colab.research.google.com/assets/colab-badge.svg\" alt=\"Open In Colab\"/></a>"
      ]
    },
    {
      "cell_type": "code",
      "execution_count": 1,
      "metadata": {
        "id": "8i5ts4RQzGOW"
      },
      "outputs": [],
      "source": [
        "# Pacotes\n",
        "import os\n",
        "import time\n",
        "import sys\n",
        "import pandas as pd\n",
        "import numpy as np\n",
        "import matplotlib.pyplot as plt\n",
        "import h5py\n",
        "from scipy import stats\n",
        "import pickle\n",
        "from PIL import Image, ImageDraw, ImageFont\n",
        "#\n",
        "import tensorflow as tf\n",
        "from tensorflow.keras.models import Model\n",
        "from tensorflow.keras.backend import expand_dims, repeat_elements\n",
        "from tensorflow.keras.utils import plot_model\n",
        "from sklearn.model_selection import train_test_split\n",
        "from tensorflow.keras.layers import ConvLSTM2D, Bidirectional, Input, Permute, Reshape, TimeDistributed, Lambda, Conv2D, Conv3D, Dense, Dropout, Normalization, BatchNormalization"
      ]
    },
    {
      "cell_type": "code",
      "source": [
        "from google.colab import drive\n",
        "# Conectando ao drive\n",
        "drive.mount('/content/drive', force_remount=True)\n",
        "root_path = '/content/drive/My Drive/projeto_DL/'\n",
        "os.chdir(root_path)"
      ],
      "metadata": {
        "colab": {
          "base_uri": "https://localhost:8080/"
        },
        "id": "jjw4cu3JzVIG",
        "outputId": "627b0a87-4567-4def-e33e-2a072308c5ae"
      },
      "execution_count": 2,
      "outputs": [
        {
          "output_type": "stream",
          "name": "stdout",
          "text": [
            "Mounted at /content/drive\n"
          ]
        }
      ]
    },
    {
      "cell_type": "code",
      "source": [
        "# DataGenerator de https://github.com/mauriciodev/tec_forecast/blob/main/examples/tec_forecast_tf2_lab.ipynb\n",
        "# split_sequence alterada para levar em conta que estamos trabalhando com patches na linha 71\n",
        "# e também o self.list_IDs da linha 9\n",
        "class DataGenerator(tf.keras.utils.Sequence):\n",
        "    'Generates data for Keras'\n",
        "    def __init__(self, x, batch_size, nstepsin=4, nstepsout=1, shuffle=True,training=True, sample_rate=12, val_split=0, validation=False, random_state=23, test_set = 0):\n",
        "        'Initialization'\n",
        "        super().__init__()\n",
        "        self.list_IDs=range(0,len(x)-(nstepsout-1+nstepsin)*100,sample_rate) #store the index to allow shuffling\n",
        "        if val_split>0:\n",
        "            datasplit=train_test_split(self.list_IDs,random_state=random_state, test_size=val_split)\n",
        "            if validation==False: #training generator\n",
        "                self.list_IDs=datasplit[0]\n",
        "            else:\n",
        "                self.list_IDs=datasplit[1]\n",
        "\n",
        "        # Mexendo na seleção de amostras para treinamento - queremos manter mais amostras que apresentem variação\n",
        "        if test_set == 0:\n",
        "          id_keep = []\n",
        "          for current_id in self.list_IDs:\n",
        "            l_test = x[current_id:current_id+(2*100):100]\n",
        "            if np.any((l_test[1]-l_test[0])):\n",
        "              id_keep.append(current_id)\n",
        "          self.list_IDs = id_keep\n",
        "\n",
        "        self.x=x\n",
        "        self.nstepsin=nstepsin\n",
        "        self.nstepsout=nstepsout\n",
        "        self.batch_size=batch_size\n",
        "        self.dim=x[0].shape\n",
        "        self.shuffle=shuffle\n",
        "        self.training=training\n",
        "        self.on_epoch_end()\n",
        "\n",
        "    def count(self):\n",
        "        'Returns the number of samples'\n",
        "        return len(self.list_IDs)\n",
        "\n",
        "    def __len__(self):\n",
        "        'Denotes the number of batches per epoch'\n",
        "        return int(np.ceil(len(self.list_IDs) / self.batch_size))\n",
        "\n",
        "    def __getitem__(self, index):\n",
        "        'Generate one batch of data'\n",
        "        # Generate indexes of the batch\n",
        "        indexes = self.indexes[index*self.batch_size:(index+1)*self.batch_size]\n",
        "        # Find list of IDs\n",
        "        list_IDs_temp = [self.list_IDs[k] for k in indexes]\n",
        "        # Generate data\n",
        "        X, y = self.__data_generation(list_IDs_temp)\n",
        "        if self.training:\n",
        "            return X, y\n",
        "        else:\n",
        "            return X\n",
        "\n",
        "    def on_epoch_end(self):\n",
        "        'Updates indexes after each epoch'\n",
        "        self.indexes = np.arange(len(self.list_IDs))\n",
        "        if self.shuffle == True:\n",
        "            np.random.shuffle(self.indexes)\n",
        "\n",
        "    def __data_generation(self, list_IDs_temp):\n",
        "        'Generates data containing batch_size samples' # X : (n_samples, *dim, n_channels)\n",
        "        # Initialization\n",
        "        X = []\n",
        "        Y = []\n",
        "        # Generate data\n",
        "        for ID in list_IDs_temp:\n",
        "            x,y=self.split_sequence(ID)\n",
        "            X.append(x)\n",
        "            Y.append(y) # <- alteração aqui\n",
        "        return np.array(X), np.array(Y)\n",
        "\n",
        "    def split_sequence(self, i):\n",
        "        # find the end of this pattern\n",
        "        end_ix = i + self.nstepsin*100\n",
        "        # check if we are beyond the sequence\n",
        "        #if (end_ix + (self.nstepsout)*100) > len(self.x):\n",
        "        #    return None,None\n",
        "        # gather input and output parts of the pattern\n",
        "        seq_x, seq_y = self.x[i:end_ix:100], self.x[end_ix:(end_ix+(self.nstepsout*100)):100]\n",
        "        return seq_x,seq_y\n",
        "\n",
        "    def asArray(self):\n",
        "        return self.__data_generation(self.list_IDs)"
      ],
      "metadata": {
        "id": "kmVB1aIZzd8L"
      },
      "execution_count": 3,
      "outputs": []
    },
    {
      "cell_type": "code",
      "source": [
        "# Abrindo dados\n",
        "with open(\"/content/drive/My Drive/projeto_DL/dataset_tratado/train_npy.pkl\", 'rb') as handle:\n",
        "  train_npy = pickle.load(handle)\n",
        "\n",
        "with open(\"/content/drive/My Drive/projeto_DL/dataset_tratado/test_npy.pkl\", 'rb') as handle:\n",
        "  test_npy = pickle.load(handle)\n",
        "\n",
        "print(len(train_npy))\n",
        "print(len(test_npy))"
      ],
      "metadata": {
        "colab": {
          "base_uri": "https://localhost:8080/"
        },
        "id": "S65S72WYzh__",
        "outputId": "9b60e8fe-d0b7-4ec6-94c6-987485cfff41"
      },
      "execution_count": 4,
      "outputs": [
        {
          "output_type": "stream",
          "name": "stdout",
          "text": [
            "20800\n",
            "5200\n"
          ]
        }
      ]
    },
    {
      "cell_type": "code",
      "source": [
        "def modelo_02(inputShape, filters=64, kernel=(5, 5), kernel_last_con = (3,3,3)):\n",
        "  in_im = Input(shape = inputShape)\n",
        "  x = in_im\n",
        "  x = BatchNormalization()(x)\n",
        "  x = ConvLSTM2D(filters=filters, kernel_size=kernel, padding=\"same\", return_sequences=True)(x)\n",
        "  x = BatchNormalization()(x)\n",
        "  x = ConvLSTM2D(filters=filters, kernel_size=kernel, padding=\"same\", return_sequences=True)(x)\n",
        "  x = BatchNormalization()(x)\n",
        "  x=Conv3D(1, kernel_last_con, activation='sigmoid', padding='same')(x)\n",
        "  return Model(in_im, x, name=sys._getframe().f_code.co_name)\n"
      ],
      "metadata": {
        "id": "03WZjYSdzu-6"
      },
      "execution_count": 5,
      "outputs": []
    },
    {
      "cell_type": "code",
      "source": [
        "nstepsin=5\n",
        "nstepsout=1\n",
        "time_stride=1\n",
        "batch_size=8\n",
        "random_seed=1\n",
        "sample_rate_in=1\n",
        "sample_rate_out=1"
      ],
      "metadata": {
        "id": "RS-1TdjU0sK8"
      },
      "execution_count": 6,
      "outputs": []
    },
    {
      "cell_type": "code",
      "source": [
        "train_set=DataGenerator(train_npy, batch_size=batch_size, nstepsin=nstepsin, nstepsout=nstepsout, shuffle=True, val_split=0.2,\n",
        "                        validation=False, random_state=random_seed, sample_rate=sample_rate_in, test_set = 0)\n",
        "val_set=DataGenerator(train_npy, batch_size=batch_size, nstepsin=nstepsin, nstepsout=nstepsout, shuffle=True, val_split=0.2,\n",
        "                      validation=True, random_state=random_seed, sample_rate=sample_rate_in, test_set = 0)\n",
        "test_set=DataGenerator(test_npy, batch_size=batch_size, nstepsin=nstepsin, nstepsout=nstepsout, shuffle=False, val_split=0,\n",
        "                       validation=False, random_state=random_seed, sample_rate=sample_rate_out, test_set = 1)"
      ],
      "metadata": {
        "id": "5lc_Oh6H0yDQ"
      },
      "execution_count": 7,
      "outputs": []
    },
    {
      "cell_type": "code",
      "source": [
        "print(\"X batches:\",train_set[0][0].shape)\n",
        "print(\"Y batches:\",train_set[0][1].shape)\n",
        "print(\"Training sSamples: \", train_set.count())"
      ],
      "metadata": {
        "colab": {
          "base_uri": "https://localhost:8080/"
        },
        "id": "rifOXi0604bj",
        "outputId": "c2017e32-e619-4b75-d1c8-aa20c9208189"
      },
      "execution_count": 8,
      "outputs": [
        {
          "output_type": "stream",
          "name": "stdout",
          "text": [
            "X batches: (8, 5, 256, 256, 1)\n",
            "Y batches: (8, 1, 256, 256, 1)\n",
            "Training sSamples:  1372\n"
          ]
        }
      ]
    },
    {
      "cell_type": "code",
      "source": [
        "inputShape=train_set[0][0][0].shape\n",
        "model= modelo_02(inputShape, filters=12, kernel=(5, 5), kernel_last_con = (3,3,3))\n",
        "print(model.name)\n",
        "plot_model(model, show_shapes=True, show_layer_names=True)"
      ],
      "metadata": {
        "colab": {
          "base_uri": "https://localhost:8080/",
          "height": 771
        },
        "id": "4s4Hd68407v5",
        "outputId": "ce725b34-d77b-41a4-9823-add93d19beb9"
      },
      "execution_count": 9,
      "outputs": [
        {
          "output_type": "stream",
          "name": "stdout",
          "text": [
            "modelo_02\n"
          ]
        },
        {
          "output_type": "execute_result",
          "data": {
            "image/png": "[encoded data removed]",
            "text/plain": [
              "<IPython.core.display.Image object>"
            ]
          },
          "metadata": {},
          "execution_count": 9
        }
      ]
    },
    {
      "cell_type": "code",
      "source": [
        "model.summary()"
      ],
      "metadata": {
        "colab": {
          "base_uri": "https://localhost:8080/"
        },
        "id": "KxjXIosG1Xrl",
        "outputId": "6d6db3bc-42cf-4e04-b5cc-3196bff76c48"
      },
      "execution_count": 10,
      "outputs": [
        {
          "output_type": "stream",
          "name": "stdout",
          "text": [
            "Model: \"modelo_02\"\n",
            "_________________________________________________________________\n",
            " Layer (type)                Output Shape              Param #   \n",
            "=================================================================\n",
            " input_1 (InputLayer)        [(None, 5, 256, 256, 1)]  0         \n",
            "                                                                 \n",
            " batch_normalization (BatchN  (None, 5, 256, 256, 1)   4         \n",
            " ormalization)                                                   \n",
            "                                                                 \n",
            " conv_lstm2d (ConvLSTM2D)    (None, 5, 256, 256, 12)   15648     \n",
            "                                                                 \n",
            " batch_normalization_1 (Batc  (None, 5, 256, 256, 12)  48        \n",
            " hNormalization)                                                 \n",
            "                                                                 \n",
            " conv_lstm2d_1 (ConvLSTM2D)  (None, 5, 256, 256, 12)   28848     \n",
            "                                                                 \n",
            " batch_normalization_2 (Batc  (None, 5, 256, 256, 12)  48        \n",
            " hNormalization)                                                 \n",
            "                                                                 \n",
            " conv3d (Conv3D)             (None, 5, 256, 256, 1)    325       \n",
            "                                                                 \n",
            "=================================================================\n",
            "Total params: 44,921\n",
            "Trainable params: 44,871\n",
            "Non-trainable params: 50\n",
            "_________________________________________________________________\n"
          ]
        }
      ]
    },
    {
      "cell_type": "code",
      "source": [
        "optimizer = tf.keras.optimizers.Adam(learning_rate = 0.001, clipnorm = 1)\n",
        "loss=tf.keras.losses.binary_crossentropy\n",
        "model.compile(optimizer=optimizer, loss=loss, metrics=['accuracy'])\n",
        "earlystopping = tf.keras.callbacks.EarlyStopping(monitor= \"val_loss\", min_delta=0.0001,\n",
        "                                                 patience=10, restore_best_weights=True,\n",
        "                                                 verbose = 1)\n",
        "start = pd.Timestamp.now()\n",
        "history=model.fit(train_set, validation_data=val_set, epochs=100, batch_size=batch_size,\n",
        "                  callbacks = [earlystopping])\n",
        "end = pd.Timestamp.now()\n",
        "model.save(\"/content/drive/My Drive/projeto_DL/\"+model.name+\".h5\")"
      ],
      "metadata": {
        "colab": {
          "base_uri": "https://localhost:8080/"
        },
        "id": "Bpl4PBVX1aU9",
        "outputId": "1cb44f14-5b8a-423a-d855-6801023afcf7"
      },
      "execution_count": 11,
      "outputs": [
        {
          "output_type": "stream",
          "name": "stdout",
          "text": [
            "Epoch 1/100\n",
            "172/172 [==============================] - 82s 372ms/step - loss: 0.0519 - accuracy: 0.9862 - val_loss: 0.2949 - val_accuracy: 0.9331\n",
            "Epoch 2/100\n",
            "172/172 [==============================] - 64s 374ms/step - loss: 0.0177 - accuracy: 0.9975 - val_loss: 0.0391 - val_accuracy: 0.9973\n",
            "Epoch 3/100\n",
            "172/172 [==============================] - 63s 369ms/step - loss: 0.0164 - accuracy: 0.9977 - val_loss: 0.0151 - val_accuracy: 0.9979\n",
            "Epoch 4/100\n",
            "172/172 [==============================] - 63s 365ms/step - loss: 0.0156 - accuracy: 0.9978 - val_loss: 0.0144 - val_accuracy: 0.9979\n",
            "Epoch 5/100\n",
            "172/172 [==============================] - 63s 364ms/step - loss: 0.0158 - accuracy: 0.9978 - val_loss: 0.0143 - val_accuracy: 0.9979\n",
            "Epoch 6/100\n",
            "172/172 [==============================] - 63s 364ms/step - loss: 0.0156 - accuracy: 0.9978 - val_loss: 0.0142 - val_accuracy: 0.9979\n",
            "Epoch 7/100\n",
            "172/172 [==============================] - 63s 365ms/step - loss: 0.0152 - accuracy: 0.9978 - val_loss: 0.0145 - val_accuracy: 0.9979\n",
            "Epoch 8/100\n",
            "172/172 [==============================] - 63s 364ms/step - loss: 0.0156 - accuracy: 0.9978 - val_loss: 0.0140 - val_accuracy: 0.9979\n",
            "Epoch 9/100\n",
            "172/172 [==============================] - 63s 365ms/step - loss: 0.0152 - accuracy: 0.9978 - val_loss: 0.0149 - val_accuracy: 0.9979\n",
            "Epoch 10/100\n",
            "172/172 [==============================] - 63s 364ms/step - loss: 0.0151 - accuracy: 0.9978 - val_loss: 0.0138 - val_accuracy: 0.9979\n",
            "Epoch 11/100\n",
            "172/172 [==============================] - 63s 364ms/step - loss: 0.0152 - accuracy: 0.9978 - val_loss: 0.0139 - val_accuracy: 0.9979\n",
            "Epoch 12/100\n",
            "172/172 [==============================] - 63s 364ms/step - loss: 0.0158 - accuracy: 0.9978 - val_loss: 0.0142 - val_accuracy: 0.9979\n",
            "Epoch 13/100\n",
            "172/172 [==============================] - 63s 364ms/step - loss: 0.0154 - accuracy: 0.9978 - val_loss: 0.0141 - val_accuracy: 0.9979\n",
            "Epoch 14/100\n",
            "172/172 [==============================] - 63s 364ms/step - loss: 0.0151 - accuracy: 0.9979 - val_loss: 0.0140 - val_accuracy: 0.9979\n",
            "Epoch 15/100\n",
            "172/172 [==============================] - 63s 364ms/step - loss: 0.0151 - accuracy: 0.9979 - val_loss: 0.0140 - val_accuracy: 0.9979\n",
            "Epoch 16/100\n",
            "172/172 [==============================] - 64s 373ms/step - loss: 0.0149 - accuracy: 0.9979 - val_loss: 0.0138 - val_accuracy: 0.9980\n",
            "Epoch 17/100\n",
            "172/172 [==============================] - 63s 364ms/step - loss: 0.0150 - accuracy: 0.9979 - val_loss: 0.0138 - val_accuracy: 0.9979\n",
            "Epoch 18/100\n",
            "172/172 [==============================] - 63s 365ms/step - loss: 0.0147 - accuracy: 0.9979 - val_loss: 0.0137 - val_accuracy: 0.9980\n",
            "Epoch 19/100\n",
            "172/172 [==============================] - 63s 364ms/step - loss: 0.0149 - accuracy: 0.9979 - val_loss: 0.0138 - val_accuracy: 0.9979\n",
            "Epoch 20/100\n",
            "172/172 [==============================] - ETA: 0s - loss: 0.0149 - accuracy: 0.9979Restoring model weights from the end of the best epoch: 10.\n",
            "172/172 [==============================] - 63s 364ms/step - loss: 0.0149 - accuracy: 0.9979 - val_loss: 0.0139 - val_accuracy: 0.9979\n",
            "Epoch 20: early stopping\n"
          ]
        }
      ]
    },
    {
      "cell_type": "code",
      "source": [
        "model.evaluate(train_set)\n",
        "model.evaluate(val_set)\n",
        "model.evaluate(test_set)"
      ],
      "metadata": {
        "colab": {
          "base_uri": "https://localhost:8080/"
        },
        "id": "yHIo86h23fpJ",
        "outputId": "8991d56a-8a5d-4542-c90d-3b8f20f9187f"
      },
      "execution_count": 12,
      "outputs": [
        {
          "output_type": "stream",
          "name": "stdout",
          "text": [
            "172/172 [==============================] - 16s 92ms/step - loss: 0.0145 - accuracy: 0.9979\n",
            "40/40 [==============================] - 4s 92ms/step - loss: 0.0138 - accuracy: 0.9979\n",
            "588/588 [==============================] - 54s 92ms/step - loss: 0.0231 - accuracy: 0.9968\n"
          ]
        },
        {
          "output_type": "execute_result",
          "data": {
            "text/plain": [
              "[0.02312394790351391, 0.9968157410621643]"
            ]
          },
          "metadata": {},
          "execution_count": 12
        }
      ]
    }
  ]
}