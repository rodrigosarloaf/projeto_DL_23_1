{
  "nbformat": 4,
  "nbformat_minor": 0,
  "metadata": {
    "colab": {
      "provenance": [],
      "authorship_tag": "ABX9TyPtXHI2ch4zDp+ATtBrmdoR",
      "include_colab_link": true
    },
    "kernelspec": {
      "name": "python3",
      "display_name": "Python 3"
    },
    "language_info": {
      "name": "python"
    }
  },
  "cells": [
    {
      "cell_type": "markdown",
      "metadata": {
        "id": "view-in-github",
        "colab_type": "text"
      },
      "source": [
        "<a href=\"https://colab.research.google.com/github/rodrigosarloaf/projeto_DL_23_1/blob/main/separa_treino_teste.ipynb\" target=\"_parent\"><img src=\"https://colab.research.google.com/assets/colab-badge.svg\" alt=\"Open In Colab\"/></a>"
      ]
    },
    {
      "cell_type": "code",
      "source": [
        "# Esse script foi rodado localmente\n",
        "# Baixei os dados de entrada e depois subi os outputs\n",
        "\n",
        "# Pacotes\n",
        "import os\n",
        "import time\n",
        "import sys\n",
        "import pandas as pd\n",
        "import numpy as np\n",
        "import matplotlib.pyplot as plt\n",
        "import h5py\n",
        "from scipy import stats\n",
        "import pickle\n",
        "from PIL import Image, ImageDraw, ImageFont\n",
        "\n",
        "len(os.listdir(\"patches/\"))\n",
        "# Tem os 26000 que devia\n",
        "\n",
        "# Criando caminhos e salvando na lista correta\n",
        "path = \"patches/\"\n",
        "train_npy = []\n",
        "test_npy = []\n",
        "contador=26000\n",
        "for i in ['2016','2017','2018','2019','2020','2021']:\n",
        "  for j in range(60):\n",
        "    for k in range(100):\n",
        "      candidato = path+i+\"_\"+str(j)+\"_patch_\"+str(k)+\".pkl\"\n",
        "      if os.path.exists(candidato):\n",
        "        with open(candidato, 'rb') as handle:\n",
        "          dados = pickle.load(handle)\n",
        "          dados = dados.astype('float32')\n",
        "          dados = np.expand_dims(dados, axis=2)\n",
        "\n",
        "        if contador<= 5200:\n",
        "          test_npy.append(dados)\n",
        "        else:\n",
        "          train_npy.append(dados)\n",
        "\n",
        "        if ((26000-contador) % 100) == 0:\n",
        "          print(\"contador = \" + str(26000-contador))\n",
        "        contador = contador-1\n",
        "\n",
        "# Salvando bases acima\n",
        "with open(\"train_npy.pkl\", 'wb') as handle:\n",
        "  pickle.dump(train_npy, handle, protocol=pickle.HIGHEST_PROTOCOL)\n",
        "\n",
        "with open(\"test_npy.pkl\", 'wb') as handle:\n",
        "  pickle.dump(test_npy, handle, protocol=pickle.HIGHEST_PROTOCOL)\n"
      ],
      "metadata": {
        "id": "hPBO9n_NhX2V"
      },
      "execution_count": null,
      "outputs": []
    }
  ]
}